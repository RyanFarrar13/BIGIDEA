{
 "cells": [
  {
   "cell_type": "code",
   "execution_count": 1,
   "metadata": {},
   "outputs": [
    {
     "name": "stdin",
     "output_type": "stream",
     "text": [
      "Enter your name:  r\n",
      "Enter your favorite fruit:  fruit\n"
     ]
    },
    {
     "name": "stdout",
     "output_type": "stream",
     "text": [
      "Hello, r! Your favorite fruit spelled backward is: tiurf\n"
     ]
    }
   ],
   "source": [
    "#Ryan Farrar, I worked alone to create this code.\n",
    "name = input(\"Enter your name: \")\n",
    "fruit = input(\"Enter your favorite fruit: \")\n",
    "reversedFruit = fruit[::-1]\n",
    "print(\"Hello {name}! Your favorite fruit spelled backward is: {reversedFruit}\")\n"
   ]
  },
  {
   "cell_type": "code",
   "execution_count": null,
   "metadata": {},
   "outputs": [],
   "source": []
  }
 ],
 "metadata": {
  "kernelspec": {
   "display_name": "Python 3",
   "language": "python",
   "name": "python3"
  },
  "language_info": {
   "codemirror_mode": {
    "name": "ipython",
    "version": 3
   },
   "file_extension": ".py",
   "mimetype": "text/x-python",
   "name": "python",
   "nbconvert_exporter": "python",
   "pygments_lexer": "ipython3",
   "version": "3.8.3"
  }
 },
 "nbformat": 4,
 "nbformat_minor": 4
}
